{
  "nbformat": 4,
  "nbformat_minor": 0,
  "metadata": {
    "colab": {
      "name": "Untitled0.ipynb",
      "provenance": [],
      "collapsed_sections": []
    },
    "kernelspec": {
      "name": "python3",
      "display_name": "Python 3"
    },
    "language_info": {
      "name": "python"
    }
  },
  "cells": [
    {
      "cell_type": "code",
      "metadata": {
        "colab": {
          "base_uri": "https://localhost:8080/"
        },
        "id": "5FZMzlKBX-rE",
        "outputId": "55d0bd25-806b-4e4b-cfe1-ce5f9d5287f6"
      },
      "source": [
        "print(\"welcome to python world!let's start coding\")"
      ],
      "execution_count": 3,
      "outputs": [
        {
          "output_type": "stream",
          "text": [
            "welcome to python world!let's start coding\n"
          ],
          "name": "stdout"
        }
      ]
    }
  ]
}